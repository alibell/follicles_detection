{
 "cells": [
  {
   "cell_type": "code",
   "execution_count": 1,
   "metadata": {},
   "outputs": [],
   "source": [
    "import sys\n",
    "sys.path.insert(0, '..\\..')"
   ]
  },
  {
   "cell_type": "code",
   "execution_count": 2,
   "metadata": {},
   "outputs": [],
   "source": [
    "from submissions.full_nn.dataLoaders import imageDataLoader\n",
    "from submissions.full_nn.dataset import folliclesDataset"
   ]
  },
  {
   "cell_type": "markdown",
   "metadata": {},
   "source": [
    "# Playground"
   ]
  },
  {
   "cell_type": "code",
   "execution_count": 7,
   "metadata": {},
   "outputs": [],
   "source": [
    "from torch.utils.data import DataLoader"
   ]
  },
  {
   "cell_type": "code",
   "execution_count": 3,
   "metadata": {},
   "outputs": [],
   "source": [
    "import glob\n",
    "import pandas as pd\n",
    "import imageio\n",
    "from matplotlib import pyplot as plt\n",
    "import torch"
   ]
  },
  {
   "cell_type": "code",
   "execution_count": 4,
   "metadata": {},
   "outputs": [],
   "source": [
    "train_files = glob.glob(\"../../data/train/*.jpg\")\n",
    "test_files = glob.glob(\"../../data/test/*.jpg\")\n",
    "train_label = pd.read_csv(\"../../data/train/labels.csv\")\n",
    "test_label = pd.read_csv(\"../../data/test/labels.csv\")\n",
    "\n",
    "test_loader = imageDataLoader(test_files, test_label[[\"filename\",\"xmin\",\"xmax\",\"ymin\",\"ymax\",\"label\"]])\n",
    "train_loader = imageDataLoader(train_files, train_label[[\"filename\",\"xmin\",\"xmax\",\"ymin\",\"ymax\",\"label\"]])\n",
    "predict_loader = imageDataLoader(test_files, None)"
   ]
  },
  {
   "cell_type": "code",
   "execution_count": 5,
   "metadata": {},
   "outputs": [],
   "source": [
    "train_loader = folliclesDataset(\n",
    "    train_loader,\n",
    "    local_path=\"../../data/train_dataset\",\n",
    "    window_size=(500,500),\n",
    "    verbose=False,\n",
    "    force_reload=False\n",
    ")"
   ]
  },
  {
   "cell_type": "code",
   "execution_count": 6,
   "metadata": {},
   "outputs": [
    {
     "data": {
      "text/plain": [
       "4352"
      ]
     },
     "execution_count": 6,
     "metadata": {},
     "output_type": "execute_result"
    }
   ],
   "source": [
    "len(train_loader)"
   ]
  },
  {
   "cell_type": "code",
   "execution_count": 24,
   "metadata": {},
   "outputs": [],
   "source": [
    "import numpy as np\n",
    "from torch import nn\n",
    "from torchvision.transforms import Resize, RandomHorizontalFlip, RandomVerticalFlip"
   ]
  },
  {
   "cell_type": "code",
   "execution_count": 99,
   "metadata": {},
   "outputs": [],
   "source": [
    "def dataloader_collapse (x, random_flip=True):\n",
    "    \"\"\"dataloader_collate\n",
    "    \n",
    "    Function of collate for the DataLoader class use with the datasetFollicles class.\n",
    "    This function is used to provide images from the datasetFollicles in a tensor for training task.\n",
    "\n",
    "    Parameters\n",
    "    ----------\n",
    "    x: input data to collate, list containing tuple of a numpy array of size (h,w,3) and a dictionnary is expected\n",
    "    random_flip: boolean, if True, random flip of the images are performed\n",
    "\n",
    "    Output\n",
    "    ------\n",
    "    Tuple containing a tensor of size :\n",
    "        (batch_size, *features) with features the size of the features data\n",
    "        (batch_size, 5) with 5 the one-hot encoding of the label\n",
    "    \"\"\"\n",
    "\n",
    "    Xs = []\n",
    "    ys = []\n",
    "    mean_ratio = np.array([data[1][\"height\"]/data[1][\"width\"] for data in x]).mean()\n",
    "\n",
    "    if random_flip:\n",
    "        random_hflip = RandomHorizontalFlip()\n",
    "        random_vflip = RandomVerticalFlip()\n",
    "\n",
    "    for data in x:\n",
    "        # Getting data in tensor\n",
    "        data_tensor = torch.tensor(data[0], dtype=torch.float32)\n",
    "        data_tensor = torch.moveaxis(data_tensor, 2, 0)\n",
    "\n",
    "        # Random transformations\n",
    "        #if random_flip:\n",
    "            #data_tensor = random_hflip(data_tensor)\n",
    "            #data_tensor = random_vflip(data_tensor)\n",
    "\n",
    "        # Getting label and box\n",
    "        if data[1][\"bbox_label\"] is not None:\n",
    "            bbox_label = {\n",
    "                    \"boxes\":torch.tensor(data[1][\"bbox\"], dtype=torch.float32),\n",
    "                    \"labels\":torch.tensor(data[1][\"bbox_label\"], dtype=torch.int64)\n",
    "            }\n",
    "\n",
    "            ys.append(bbox_label)\n",
    "        else:\n",
    "            y = None\n",
    "        \n",
    "        Xs.append(data_tensor)\n",
    "\n",
    "    X = torch.stack(Xs)\n",
    "    y = ys\n",
    "    \n",
    "    return X, y"
   ]
  },
  {
   "cell_type": "code",
   "execution_count": 100,
   "metadata": {},
   "outputs": [],
   "source": [
    "train_dataloader = DataLoader(train_loader, batch_size=64, shuffle=True, collate_fn=dataloader_collapse)"
   ]
  },
  {
   "cell_type": "code",
   "execution_count": 101,
   "metadata": {},
   "outputs": [],
   "source": [
    "from torchvision.models.detection.faster_rcnn import FastRCNNPredictor\n",
    "from torchvision.models.detection import fasterrcnn_resnet50_fpn"
   ]
  },
  {
   "cell_type": "code",
   "execution_count": 102,
   "metadata": {},
   "outputs": [],
   "source": [
    "model = fasterrcnn_resnet50_fpn(pretrained=True)\n",
    "in_features = model.roi_heads.box_predictor.cls_score.in_features\n",
    "model.roi_heads.box_predictor = FastRCNNPredictor(in_features, 5)"
   ]
  },
  {
   "cell_type": "code",
   "execution_count": 103,
   "metadata": {},
   "outputs": [],
   "source": [
    "for x, y in train_dataloader:\n",
    "    break"
   ]
  },
  {
   "cell_type": "code",
   "execution_count": 104,
   "metadata": {},
   "outputs": [
    {
     "data": {
      "text/plain": [
       "{'loss_classifier': tensor(166.2936, grad_fn=<NllLossBackward0>),\n",
       " 'loss_box_reg': tensor(0.4976, grad_fn=<DivBackward0>),\n",
       " 'loss_objectness': tensor(167.4704, grad_fn=<BinaryCrossEntropyWithLogitsBackward0>),\n",
       " 'loss_rpn_box_reg': tensor(1.7708, grad_fn=<DivBackward0>)}"
      ]
     },
     "execution_count": 104,
     "metadata": {},
     "output_type": "execute_result"
    }
   ],
   "source": [
    "model(x,y)"
   ]
  },
  {
   "cell_type": "code",
   "execution_count": 106,
   "metadata": {},
   "outputs": [],
   "source": [
    "with torch.no_grad():\n",
    "    model.eval()\n",
    "    res = model(x)"
   ]
  },
  {
   "cell_type": "code",
   "execution_count": null,
   "metadata": {},
   "outputs": [],
   "source": []
  }
 ],
 "metadata": {
  "interpreter": {
   "hash": "28b293e0c0671e44c7281dde6399c7c7419d3faca031d22494da8635907ada72"
  },
  "kernelspec": {
   "display_name": "Python 3.9.7 64-bit ('base': conda)",
   "language": "python",
   "name": "python3"
  },
  "language_info": {
   "codemirror_mode": {
    "name": "ipython",
    "version": 3
   },
   "file_extension": ".py",
   "mimetype": "text/x-python",
   "name": "python",
   "nbconvert_exporter": "python",
   "pygments_lexer": "ipython3",
   "version": "3.9.7"
  },
  "orig_nbformat": 4
 },
 "nbformat": 4,
 "nbformat_minor": 2
}
