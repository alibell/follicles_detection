{
 "cells": [
  {
   "cell_type": "code",
   "execution_count": 1,
   "metadata": {},
   "outputs": [
    {
     "data": {
      "text/plain": [
       "<module 'submissions.ab_submission.dataset' from '/home/ali/git/follicles_detection/submissions/ab_submission/dataset.py'>"
      ]
     },
     "execution_count": 1,
     "metadata": {},
     "output_type": "execute_result"
    }
   ],
   "source": [
    "from submissions.ab_submission.dataLoaders import imageDataLoader\n",
    "from submissions.ab_submission.object_detector import ObjectDetector\n",
    "from submissions.ab_submission import dataset\n",
    "\n",
    "import importlib\n",
    "\n",
    "importlib.reload(dataset)"
   ]
  },
  {
   "cell_type": "code",
   "execution_count": 2,
   "metadata": {},
   "outputs": [],
   "source": [
    "import glob\n",
    "import pandas as pd\n",
    "from matplotlib import pyplot as plt"
   ]
  },
  {
   "cell_type": "code",
   "execution_count": 3,
   "metadata": {},
   "outputs": [],
   "source": [
    "train_files = glob.glob(\"./data/train/*.jpg\")\n",
    "test_files = glob.glob(\"./data/test/*.jpg\")\n",
    "train_label = pd.read_csv(\"./data/train/labels.csv\")\n",
    "test_label = pd.read_csv(\"./data/test/labels.csv\")"
   ]
  },
  {
   "cell_type": "code",
   "execution_count": 4,
   "metadata": {},
   "outputs": [],
   "source": [
    "test_loader = imageDataLoader(test_files, test_label[[\"filename\",\"xmin\",\"xmax\",\"ymin\",\"ymax\",\"label\"]])\n",
    "train_loader = imageDataLoader(train_files, train_label[[\"filename\",\"xmin\",\"xmax\",\"ymin\",\"ymax\",\"label\"]])\n",
    "predict_loader = imageDataLoader(test_files, None)"
   ]
  },
  {
   "cell_type": "code",
   "execution_count": 5,
   "metadata": {},
   "outputs": [],
   "source": [
    "import cv2\n",
    "import numpy as np"
   ]
  },
  {
   "cell_type": "code",
   "execution_count": 6,
   "metadata": {},
   "outputs": [],
   "source": [
    "import torch\n",
    "from torch import nn\n",
    "from torch.optim import Adam"
   ]
  },
  {
   "cell_type": "code",
   "execution_count": 258,
   "metadata": {},
   "outputs": [],
   "source": [
    "# Dataset Generation\n",
    "r = 10\n",
    "\n",
    "X = []\n",
    "Y = []\n",
    "for x in train_loader.get_samples():\n",
    "    new_shape = [int(x/r) for x in x[0].shape[0:2]]\n",
    "    new_img = cv2.resize(x[0].astype(np.uint8), new_shape)\n",
    "    new_img = (new_img-new_img.mean())/(new_img.max()-new_img.min())\n",
    "\n",
    "    label_matrix = np.zeros(x[0].shape[0:2])\n",
    "\n",
    "    for bbox, label in zip(x[1], x[2]):\n",
    "        if label > 0:\n",
    "            label_matrix[bbox[2]:bbox[3], bbox[0]:bbox[1]] = 1\n",
    "    label_matrix = label_matrix.astype(\"int8\")\n",
    "    new_label_matrix = cv2.resize(label_matrix.astype(np.uint8), new_shape)\n",
    "\n",
    "    # Generating tensor\n",
    "    new_img_tensor = torch.tensor(new_img, dtype=torch.float32)\n",
    "    new_img_tensor = new_img_tensor.unsqueeze(2)\n",
    "    new_img_tensor = torch.moveaxis(new_img_tensor, 2, 0)\n",
    "    new_img_tensor = torch.moveaxis(new_img_tensor, 3, 1)\n",
    "\n",
    "    new_label_matrix_tensor = torch.tensor(new_label_matrix, dtype=torch.float32)\n",
    "    new_label_matrix_tensor = new_label_matrix_tensor.unsqueeze(dim=2).unsqueeze(dim=2)\n",
    "    new_label_matrix_tensor = torch.moveaxis(new_label_matrix_tensor, 2, 0)\n",
    "    new_label_matrix_tensor = torch.moveaxis(new_label_matrix_tensor, 3, 1)\n",
    "\n",
    "    X.append(new_img_tensor)\n",
    "    Y.append(new_label_matrix_tensor)"
   ]
  },
  {
   "cell_type": "code",
   "execution_count": 353,
   "metadata": {},
   "outputs": [
    {
     "data": {
      "text/plain": [
       "Sequential(\n",
       "  (0): Conv2d(3, 10, kernel_size=(5, 5), stride=(1, 1), padding=same)\n",
       "  (1): ReLU()\n",
       "  (2): Dropout2d(p=0.5, inplace=False)\n",
       "  (3): Conv2d(10, 1, kernel_size=(1, 1), stride=(1, 1), padding=same)\n",
       "  (4): Sigmoid()\n",
       ")"
      ]
     },
     "execution_count": 353,
     "metadata": {},
     "output_type": "execute_result"
    }
   ],
   "source": [
    "simple_network = nn.Sequential(*[\n",
    "    nn.Conv2d(in_channels=3, kernel_size=(5,5), out_channels=10, padding=\"same\"),\n",
    "    nn.ReLU(),\n",
    "    nn.Dropout2d(0.5),\n",
    "    nn.Conv2d(in_channels=10, kernel_size=(1,1), out_channels=1, padding=\"same\"),\n",
    "    nn.Sigmoid()\n",
    "])\n",
    "\n",
    "simple_network = simple_network.to(\"cuda:0\")\n",
    "\n",
    "loss = nn.BCELoss()\n",
    "optim = Adam(simple_network.parameters())\n",
    "\n",
    "simple_network.train()"
   ]
  },
  {
   "cell_type": "code",
   "execution_count": 354,
   "metadata": {},
   "outputs": [
    {
     "name": "stdout",
     "output_type": "stream",
     "text": [
      "Epoch 1 - mean loss : 0.0924100090653218\n",
      "Epoch 2 - mean loss : 0.07981516695420804\n",
      "Epoch 3 - mean loss : 0.05681431901255815\n",
      "Epoch 4 - mean loss : 0.03737818751612614\n",
      "Epoch 5 - mean loss : 0.0289857020111883\n",
      "Epoch 6 - mean loss : 0.020044185315531773\n",
      "Epoch 7 - mean loss : 0.010250550876411706\n",
      "Epoch 8 - mean loss : 0.010965644543516803\n",
      "Epoch 9 - mean loss : 0.006363348407015517\n",
      "Epoch 10 - mean loss : 0.004909751736077255\n",
      "Epoch 11 - mean loss : 0.004364046397830831\n",
      "Epoch 12 - mean loss : 0.004256549655539841\n",
      "Epoch 13 - mean loss : 0.012573371542964455\n",
      "Epoch 14 - mean loss : 0.007746655844894592\n",
      "Epoch 15 - mean loss : 0.007613201507152114\n",
      "Epoch 16 - mean loss : 0.0030919807112225767\n",
      "Epoch 17 - mean loss : 0.004103576766843012\n",
      "Epoch 18 - mean loss : 0.009055616685346319\n",
      "Epoch 19 - mean loss : 0.007397187539945633\n"
     ]
    }
   ],
   "source": [
    "n_epochs = 20\n",
    "\n",
    "for i in range(n_epochs):\n",
    "    losses = []\n",
    "    if i > 0:\n",
    "        print(f\"Epoch {i} - mean loss : {mean_loss}\")\n",
    "    for x,y in zip(X,Y):\n",
    "\n",
    "        x = x.to(\"cuda:0\")\n",
    "        y = y.to(\"cuda:0\")\n",
    "\n",
    "        y_hat = simple_network(x)\n",
    "        y_hat = y_hat.flatten(start_dim=2,end_dim=3).squeeze(dim=1)\n",
    "        y = y.flatten(start_dim=2, end_dim=3).squeeze(dim=1)\n",
    "        \n",
    "        weights = y*2\n",
    "        loss = nn.BCELoss(weight=weights)\n",
    "        n_loss = loss(y_hat, y)\n",
    "\n",
    "        n_loss.backward()\n",
    "        losses.append(n_loss.item())\n",
    "        optim.step()\n",
    "\n",
    "        optim.zero_grad\n",
    "    mean_loss = np.array(losses).mean()"
   ]
  },
  {
   "cell_type": "code",
   "execution_count": 355,
   "metadata": {},
   "outputs": [],
   "source": [
    "X_test = []\n",
    "Y_test = []\n",
    "for x in test_loader.get_samples():\n",
    "    new_shape = [int(x/r) for x in x[0].shape[0:2]]\n",
    "    new_img = cv2.resize(x[0].astype(np.uint8), new_shape)\n",
    "    new_img = (new_img-new_img.mean())/(new_img.max()-new_img.min())\n",
    "\n",
    "    label_matrix = np.zeros(x[0].shape[0:2])\n",
    "\n",
    "    for bbox, label in zip(x[1], x[2]):\n",
    "        if label > 0:\n",
    "            label_matrix[bbox[2]:bbox[3], bbox[0]:bbox[1]] = 1\n",
    "    label_matrix = label_matrix.astype(\"int8\")\n",
    "    new_label_matrix = cv2.resize(label_matrix.astype(np.uint8), new_shape)\n",
    "\n",
    "    # Generating tensor\n",
    "    new_img_tensor = torch.tensor(new_img, dtype=torch.float32)\n",
    "    new_img_tensor = new_img_tensor.unsqueeze(2)\n",
    "    new_img_tensor = torch.moveaxis(new_img_tensor, 2, 0)\n",
    "    new_img_tensor = torch.moveaxis(new_img_tensor, 3, 1)\n",
    "\n",
    "    new_label_matrix_tensor = torch.tensor(new_label_matrix, dtype=torch.float32)\n",
    "    new_label_matrix_tensor = new_label_matrix_tensor.unsqueeze(dim=2).unsqueeze(dim=2)\n",
    "    new_label_matrix_tensor = torch.moveaxis(new_label_matrix_tensor, 2, 0)\n",
    "    new_label_matrix_tensor = torch.moveaxis(new_label_matrix_tensor, 3, 1)\n",
    "\n",
    "    X_test.append(new_img_tensor)\n",
    "    Y_test.append(new_label_matrix_tensor)"
   ]
  },
  {
   "cell_type": "code",
   "execution_count": 356,
   "metadata": {},
   "outputs": [],
   "source": [
    "with torch.no_grad():\n",
    "    simple_network.eval()\n",
    "    x_ = X_test[4].to(\"cuda:0\")\n",
    "    y_hat = simple_network(x_)"
   ]
  },
  {
   "cell_type": "code",
   "execution_count": 357,
   "metadata": {},
   "outputs": [],
   "source": [
    "test = (y_hat >= 0.5).cpu().int()[0,0,:,:]"
   ]
  },
  {
   "cell_type": "code",
   "execution_count": 359,
   "metadata": {},
   "outputs": [
    {
     "data": {
      "text/plain": [
       "<matplotlib.image.AxesImage at 0x7f7c24a8d730>"
      ]
     },
     "execution_count": 359,
     "metadata": {},
     "output_type": "execute_result"
    },
    {
     "data": {
      "image/png": "[encoded data removed]",
      "text/plain": [
       "<Figure size 432x288 with 1 Axes>"
      ]
     },
     "metadata": {
      "needs_background": "light"
     },
     "output_type": "display_data"
    }
   ],
   "source": [
    "plt.imshow(1-test, cmap=\"gray\")"
   ]
  },
  {
   "cell_type": "code",
   "execution_count": 321,
   "metadata": {},
   "outputs": [
    {
     "data": {
      "text/plain": [
       "<matplotlib.image.AxesImage at 0x7f7c24d84880>"
      ]
     },
     "execution_count": 321,
     "metadata": {},
     "output_type": "execute_result"
    },
    {
     "data": {
      "image/png": "[encoded data removed]",
      "text/plain": [
       "<Figure size 432x288 with 1 Axes>"
      ]
     },
     "metadata": {
      "needs_background": "light"
     },
     "output_type": "display_data"
    }
   ],
   "source": [
    "test2=Y_test[0].int()[0,0,:,:]\n",
    "plt.imshow(1-test2, cmap=\"gray\")"
   ]
  },
  {
   "cell_type": "code",
   "execution_count": null,
   "metadata": {},
   "outputs": [],
   "source": []
  }
 ],
 "metadata": {
  "interpreter": {
   "hash": "c304935560631f5a20c1bdabb506947800ccd82d813704000c078f0735b9b818"
  },
  "kernelspec": {
   "display_name": "Python 3.9.1 64-bit ('base': conda)",
   "language": "python",
   "name": "python3"
  },
  "language_info": {
   "codemirror_mode": {
    "name": "ipython",
    "version": 3
   },
   "file_extension": ".py",
   "mimetype": "text/x-python",
   "name": "python",
   "nbconvert_exporter": "python",
   "pygments_lexer": "ipython3",
   "version": "3.9.1"
  },
  "orig_nbformat": 4
 },
 "nbformat": 4,
 "nbformat_minor": 2
}
