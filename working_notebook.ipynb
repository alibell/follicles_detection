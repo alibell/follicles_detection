{
 "cells": [
  {
   "cell_type": "code",
   "execution_count": 1,
   "metadata": {},
   "outputs": [
    {
     "data": {
      "text/plain": [
       "<module 'submissions.ab_submission.dataset' from '/home/ali/git/follicles_detection/submissions/ab_submission/dataset.py'>"
      ]
     },
     "execution_count": 1,
     "metadata": {},
     "output_type": "execute_result"
    }
   ],
   "source": [
    "from submissions.ab_submission.dataLoaders import imageDataLoader\n",
    "from submissions.ab_submission.object_detector import ObjectDetector\n",
    "from submissions.ab_submission import dataset\n",
    "\n",
    "import importlib\n",
    "\n",
    "importlib.reload(dataset)"
   ]
  },
  {
   "cell_type": "markdown",
   "metadata": {},
   "source": [
    "# Model evaluation"
   ]
  },
  {
   "cell_type": "code",
   "execution_count": 2,
   "metadata": {},
   "outputs": [],
   "source": [
    "import glob\n",
    "import pandas as pd"
   ]
  },
  {
   "cell_type": "code",
   "execution_count": 3,
   "metadata": {},
   "outputs": [],
   "source": [
    "train_files = glob.glob(\"./data/train/*.jpg\")\n",
    "test_files = glob.glob(\"./data/test/*.jpg\")\n",
    "train_label = pd.read_csv(\"./data/train/labels.csv\")\n",
    "test_label = pd.read_csv(\"./data/test/labels.csv\")"
   ]
  },
  {
   "cell_type": "code",
   "execution_count": 4,
   "metadata": {},
   "outputs": [
    {
     "name": "stdout",
     "output_type": "stream",
     "text": [
      "Fitting boxPixelClassifier\n",
      "Fitting follicleClassifier\n",
      "Model save in ./params/follicleClassifier2.model\n"
     ]
    }
   ],
   "source": [
    "model = ObjectDetector(ramp_mode=False)\n",
    "model.load(boxPixelClassifier=\"./params/boxPixelClassifier_opencv.joblib\", follicleClassifier=\"./params/follicleClassifier2.model\")\n",
    "model.fit(train_files, train_label)\n",
    "#model.save(boxPixelClassifier=\"./params/boxPixelClassifier_opencv.joblib\",follicleClassifier=\"./params/follicleClassifier2.model\")"
   ]
  },
  {
   "cell_type": "code",
   "execution_count": 5,
   "metadata": {},
   "outputs": [],
   "source": [
    "y_hat = model.predict(test_files)"
   ]
  },
  {
   "cell_type": "code",
   "execution_count": 6,
   "metadata": {},
   "outputs": [],
   "source": [
    "import numpy as np\n",
    "import glob\n",
    "import os\n",
    "import pandas as pd\n",
    "from matplotlib import pyplot as plt\n",
    "\n",
    "from PIL import Image, ImageDraw, ImageFont\n",
    "\n",
    "font_size = 60\n",
    "if os.name != 'nt':\n",
    "    font = ImageFont.truetype(\"/usr/share/fonts/truetype/freefont/FreeMono.ttf\", font_size)\n",
    "else:\n",
    "    font = ImageFont.truetype(\"C:/Windows/Fonts/Arial/arialbd.ttf\", font_size)\n",
    "\n",
    "def write_rectangle(image, preds, folder=None, filename=None):\n",
    "    img = Image.fromarray(image)\n",
    "    img_draw = ImageDraw.Draw(img)\n",
    "    for pred in preds:\n",
    "        x1, y1, x2, y2 = pred[\"bbox\"]\n",
    "        label = pred[\"class\"]\n",
    "        img_draw.rounded_rectangle(((x1, y1), (x2,y2)), fill=None, outline=\"black\", width=5)\n",
    "        img_draw.text((x1, y1-70), label, font=font, fill=\"black\")\n",
    "\n",
    "    if folder is not None and filename is not None:\n",
    "        img.save(f\"./data/{folder}/{filename}\")\n",
    "    \n",
    "    return np.array(img)"
   ]
  },
  {
   "cell_type": "code",
   "execution_count": 6,
   "metadata": {},
   "outputs": [],
   "source": [
    "test_loader = imageDataLoader(test_files, test_label[[\"filename\",\"xmin\",\"xmax\",\"ymin\",\"ymax\",\"label\"]])\n",
    "train_loader = imageDataLoader(train_files, train_label[[\"filename\",\"xmin\",\"xmax\",\"ymin\",\"ymax\",\"label\"]])\n",
    "predict_loader = imageDataLoader(test_files, None)"
   ]
  },
  {
   "cell_type": "code",
   "execution_count": 18,
   "metadata": {},
   "outputs": [],
   "source": [
    "for data, preds, filename in zip(test_loader.get_samples(), y_hat, test_loader.X_filenames):\n",
    "    write_rectangle(data[0], preds, \"test_predicted\", filename)"
   ]
  },
  {
   "cell_type": "code",
   "execution_count": 10,
   "metadata": {},
   "outputs": [],
   "source": [
    "reload_data = False\n",
    "\n",
    "train_dataset = dataset.folliclesDataset(\n",
    "    train_loader,\n",
    "    data_augmentation=False,\n",
    "    local_path=\"./datasets/train\",\n",
    "    box_classifier=model._get_box_list,\n",
    "    verbose=False,\n",
    "    order=\"box_ratio\",\n",
    "    force_reload=reload_data,\n",
    "    mode=\"all\"\n",
    ")\n",
    "\n",
    "test_dataset = dataset.folliclesDataset(\n",
    "    test_loader,\n",
    "    data_augmentation=False,\n",
    "    local_path=\"./datasets/test\",\n",
    "    box_classifier=model._get_box_list,\n",
    "    verbose=False,\n",
    "    order=\"box_ratio\",\n",
    "    force_reload=reload_data,\n",
    "    mode=\"crop\"\n",
    ")"
   ]
  },
  {
   "cell_type": "code",
   "execution_count": 12,
   "metadata": {},
   "outputs": [],
   "source": [
    "from torchvision.transforms import Resize, Pad, RandomHorizontalFlip, RandomVerticalFlip\n",
    "from torch import nn\n",
    "import torch\n",
    "\n"
   ]
  },
  {
   "cell_type": "code",
   "execution_count": 13,
   "metadata": {},
   "outputs": [],
   "source": [
    "for x in test_loader.get_samples():\n",
    "    break"
   ]
  },
  {
   "cell_type": "code",
   "execution_count": 15,
   "metadata": {},
   "outputs": [],
   "source": [
    "import cv2"
   ]
  },
  {
   "cell_type": "code",
   "execution_count": 81,
   "metadata": {},
   "outputs": [],
   "source": [
    "dataloader_collapse"
   ]
  },
  {
   "cell_type": "code",
   "execution_count": 19,
   "metadata": {},
   "outputs": [],
   "source": [
    "from torch.utils.data import DataLoader\n",
    "dataloader_collapse_test = lambda x: dataset.dataloader_collapse(x, image_size_width=128, reducer=\"resize\", random_flip=True)\n",
    "dataloader_collapse_train = lambda x: dataset.dataloader_collapse(x, image_size_width=128, reducer=\"resize\", random_flip=False)\n",
    "\n",
    "test_dataloader = DataLoader(test_dataset, batch_size=64, shuffle=False, collate_fn=dataloader_collapse_test)\n",
    "train_dataloader = DataLoader(train_dataset, batch_size=64, shuffle=False, collate_fn=dataloader_collapse_train)"
   ]
  },
  {
   "cell_type": "code",
   "execution_count": 20,
   "metadata": {},
   "outputs": [
    {
     "data": {
      "text/plain": [
       "<module 'submissions.ab_submission.follicleClassifier' from '/home/ali/git/follicles_detection/submissions/ab_submission/follicleClassifier.py'>"
      ]
     },
     "execution_count": 20,
     "metadata": {},
     "output_type": "execute_result"
    }
   ],
   "source": [
    "from submissions.ab_submission import follicleClassifier\n",
    "import importlib\n",
    "\n",
    "importlib.reload(follicleClassifier)"
   ]
  },
  {
   "cell_type": "code",
   "execution_count": 82,
   "metadata": {},
   "outputs": [],
   "source": [
    "from sklearn.metrics import confusion_matrix, ConfusionMatrixDisplay, f1_score\n",
    "\n",
    "def plot_cm (y, y_hat):\n",
    "\n",
    "    cm = confusion_matrix(y, y_hat)\n",
    "    cm_plot = ConfusionMatrixDisplay(cm)\n",
    "\n",
    "    cm_plot.plot()"
   ]
  },
  {
   "cell_type": "code",
   "execution_count": 268,
   "metadata": {},
   "outputs": [
    {
     "name": "stdout",
     "output_type": "stream",
     "text": [
      "Epoch : 0\n",
      "Loss function : 1.6891252483640398\n",
      "Epoch : 1\n",
      "Loss function : 1.6628476920581998\n",
      "Epoch : 2\n",
      "Loss function : 1.6289740498103793\n",
      "Epoch : 3\n",
      "Loss function : 1.5894577020690555\n",
      "Epoch : 4\n",
      "Loss function : 1.5477314744676862\n",
      "Epoch : 5\n",
      "Loss function : 1.5076821105820792\n",
      "Epoch : 6\n",
      "Loss function : 1.4712161985384364\n",
      "Epoch : 7\n",
      "Loss function : 1.4384482403596242\n",
      "Epoch : 8\n",
      "Loss function : 1.4092471908639979\n",
      "Epoch : 9\n",
      "Loss function : 1.3828192296482267\n",
      "Epoch : 10\n",
      "Loss function : 1.360013045273818\n",
      "Epoch : 11\n",
      "Loss function : 1.3399646206507607\n",
      "Epoch : 12\n",
      "Loss function : 1.3214997013846597\n",
      "Epoch : 13\n",
      "Loss function : 1.3049444276459363\n",
      "Epoch : 14\n",
      "Loss function : 1.2897339154803564\n",
      "Epoch : 15\n",
      "Loss function : 1.2762897027035554\n",
      "Epoch : 16\n",
      "Loss function : 1.2643827532185894\n",
      "Epoch : 17\n",
      "Loss function : 1.2531754793944183\n",
      "Epoch : 18\n",
      "Loss function : 1.2423683968104218\n",
      "Epoch : 19\n",
      "Loss function : 1.2328991824672335\n",
      "Epoch : 20\n",
      "Loss function : 1.2239392595766894\n",
      "Epoch : 21\n",
      "Loss function : 1.2159284029430124\n",
      "Epoch : 22\n",
      "Loss function : 1.2085647304112372\n",
      "Epoch : 23\n",
      "Loss function : 1.2018191936233686\n",
      "Epoch : 24\n",
      "Loss function : 1.1953197265806652\n",
      "Epoch : 25\n",
      "Loss function : 1.1891492979648786\n",
      "Epoch : 26\n",
      "Loss function : 1.1832851609855732\n",
      "Epoch : 27\n",
      "Loss function : 1.1779207182782037\n",
      "Epoch : 28\n",
      "Loss function : 1.1726144036440231\n",
      "Epoch : 29\n",
      "Loss function : 1.1675226784887769\n",
      "Epoch : 30\n",
      "Loss function : 1.1625766924449377\n",
      "Epoch : 31\n",
      "Loss function : 1.1576188637741975\n",
      "Epoch : 32\n",
      "Loss function : 1.1533741890782057\n",
      "Epoch : 33\n",
      "Loss function : 1.1491341702744406\n",
      "Epoch : 34\n",
      "Loss function : 1.145099939943171\n",
      "Epoch : 35\n",
      "Loss function : 1.1412316004908274\n",
      "Epoch : 36\n",
      "Loss function : 1.13771577231212\n",
      "Epoch : 37\n",
      "Loss function : 1.1342101422766395\n",
      "Epoch : 38\n",
      "Loss function : 1.1309019880271511\n",
      "Epoch : 39\n",
      "Loss function : 1.1275462343579248\n",
      "Epoch : 40\n",
      "Loss function : 1.1244570963889464\n",
      "Epoch : 41\n",
      "Loss function : 1.1212766469876512\n",
      "Epoch : 42\n",
      "Loss function : 1.1182593047156815\n",
      "Epoch : 43\n",
      "Loss function : 1.1154638444964504\n",
      "Epoch : 44\n",
      "Loss function : 1.1126832272640612\n",
      "Epoch : 45\n",
      "Loss function : 1.1101148733194324\n",
      "Epoch : 46\n",
      "Loss function : 1.107638783126375\n",
      "Epoch : 47\n",
      "Loss function : 1.1050937271543912\n",
      "Epoch : 48\n",
      "Loss function : 1.1025713710557847\n",
      "Epoch : 49\n",
      "Loss function : 1.10026159178643\n",
      "Epoch : 50\n",
      "Loss function : 1.0982119074833938\n",
      "Epoch : 51\n",
      "Loss function : 1.0962321994068858\n",
      "Epoch : 52\n",
      "Loss function : 1.094115219615326\n",
      "Epoch : 53\n",
      "Loss function : 1.0920871528788638\n",
      "Epoch : 54\n",
      "Loss function : 1.0900602346374875\n",
      "Epoch : 55\n",
      "Loss function : 1.0880731287963537\n",
      "Epoch : 56\n",
      "Loss function : 1.0862004363546793\n",
      "Epoch : 57\n",
      "Loss function : 1.0843332806733637\n",
      "Epoch : 58\n",
      "Loss function : 1.0824998214997237\n",
      "Epoch : 59\n",
      "Loss function : 1.0807838979694577\n",
      "Epoch : 60\n",
      "Loss function : 1.079172133608408\n",
      "Epoch : 61\n",
      "Loss function : 1.0776058949083775\n",
      "Epoch : 62\n",
      "Loss function : 1.076053849243343\n",
      "Epoch : 63\n",
      "Loss function : 1.0745252039993094\n",
      "Epoch : 64\n",
      "Loss function : 1.0731862033679809\n",
      "Epoch : 65\n",
      "Loss function : 1.0717944363064924\n",
      "Epoch : 66\n",
      "Loss function : 1.070405639692156\n",
      "Epoch : 67\n",
      "Loss function : 1.0690728764907986\n",
      "Epoch : 68\n",
      "Loss function : 1.0677219417853714\n",
      "Epoch : 69\n",
      "Loss function : 1.066340554895855\n",
      "Epoch : 70\n",
      "Loss function : 1.0650275362009654\n",
      "Epoch : 71\n",
      "Loss function : 1.0637450675090785\n",
      "Epoch : 72\n",
      "Loss function : 1.0624865633711966\n",
      "Epoch : 73\n",
      "Loss function : 1.0611669659384428\n",
      "Epoch : 74\n",
      "Loss function : 1.0599414152569242\n",
      "Epoch : 75\n",
      "Loss function : 1.058796958180896\n",
      "Epoch : 76\n",
      "Loss function : 1.0576987131259732\n",
      "Epoch : 77\n",
      "Loss function : 1.056608000481376\n",
      "Epoch : 78\n",
      "Loss function : 1.0555398989111777\n",
      "Epoch : 79\n",
      "Loss function : 1.054420220993814\n",
      "Epoch : 80\n",
      "Loss function : 1.0532976809422596\n",
      "Epoch : 81\n",
      "Loss function : 1.0521816647980409\n",
      "Epoch : 82\n",
      "Loss function : 1.0511760965750536\n",
      "Epoch : 83\n",
      "Loss function : 1.0501496939499633\n",
      "Epoch : 84\n",
      "Loss function : 1.049112138561174\n",
      "Epoch : 85\n",
      "Loss function : 1.0480788784433706\n",
      "Epoch : 86\n",
      "Loss function : 1.0471104462093255\n",
      "Epoch : 87\n",
      "Loss function : 1.0460697381204858\n",
      "Epoch : 88\n",
      "Loss function : 1.045086359677945\n",
      "Epoch : 89\n",
      "Loss function : 1.0441386641964079\n",
      "Epoch : 90\n",
      "Loss function : 1.043201666892604\n",
      "Epoch : 91\n",
      "Loss function : 1.042274331731826\n",
      "Epoch : 92\n",
      "Loss function : 1.0413636409558824\n",
      "Epoch : 93\n",
      "Loss function : 1.0404638344272896\n",
      "Epoch : 94\n",
      "Loss function : 1.0395687844520225\n",
      "Epoch : 95\n",
      "Loss function : 1.0386396090071353\n",
      "Epoch : 96\n",
      "Loss function : 1.0378164690560316\n",
      "Epoch : 97\n",
      "Loss function : 1.0370131301520749\n",
      "Epoch : 98\n",
      "Loss function : 1.0362275992235694\n",
      "Epoch : 99\n",
      "Loss function : 1.035440143091338\n"
     ]
    }
   ],
   "source": [
    "n_epoch = 100\n",
    "model_cnn = follicleClassifier.follicleClassifier()\n",
    "model_cnn.to(\"cuda:0\")\n",
    "\n",
    "for i in range(n_epoch):\n",
    "    print(f\"Epoch : {i}\")\n",
    "    for x, y in train_dataloader:\n",
    "        \n",
    "        x = x.to(\"cuda:0\")\n",
    "        y = y.to(\"cuda:0\")\n",
    "\n",
    "        model_cnn.fit(x,y)\n",
    "\n",
    "    print(f\"Loss function : {np.array(model_cnn.losses).mean()}\")"
   ]
  },
  {
   "cell_type": "code",
   "execution_count": 269,
   "metadata": {},
   "outputs": [],
   "source": [
    "y_hats = []\n",
    "ys = []\n",
    "\n",
    "for x,y in train_dataloader:\n",
    "    x = x.to(\"cuda:0\")\n",
    "    y_hat = model_cnn.predict(x)\n",
    "    y_hats.append(y_hat)\n",
    "    ys.append(y)\n",
    "\n",
    "y_hats = torch.concat(y_hats)\n",
    "ys = torch.concat(ys)\n",
    "\n",
    "y_hats_class = torch.argmax(y_hats, dim=1).to(\"cpu\").numpy()\n",
    "ys_class = torch.argmax(ys, dim=1).to(\"cpu\").numpy()"
   ]
  },
  {
   "cell_type": "code",
   "execution_count": 270,
   "metadata": {},
   "outputs": [
    {
     "data": {
      "image/png": "[encoded data removed]",
      "text/plain": [
       "<Figure size 432x288 with 2 Axes>"
      ]
     },
     "metadata": {
      "needs_background": "light"
     },
     "output_type": "display_data"
    }
   ],
   "source": [
    "plot_cm(ys_class, y_hats_class)"
   ]
  },
  {
   "cell_type": "code",
   "execution_count": 271,
   "metadata": {},
   "outputs": [],
   "source": [
    "y_hats = []\n",
    "ys = []\n",
    "\n",
    "for x,y in test_dataloader:\n",
    "    x = x.to(\"cuda:0\")\n",
    "    y_hat = model_cnn.predict(x)\n",
    "    y_hats.append(y_hat)\n",
    "    ys.append(y)\n",
    "\n",
    "y_hats = torch.concat(y_hats)\n",
    "ys = torch.concat(ys)\n",
    "\n",
    "y_hats_class = torch.argmax(y_hats, dim=1).to(\"cpu\").numpy()\n",
    "ys_class = torch.argmax(ys, dim=1).to(\"cpu\").numpy()"
   ]
  },
  {
   "cell_type": "code",
   "execution_count": 272,
   "metadata": {},
   "outputs": [
    {
     "data": {
      "image/png": "[encoded data removed]",
      "text/plain": [
       "<Figure size 432x288 with 2 Axes>"
      ]
     },
     "metadata": {
      "needs_background": "light"
     },
     "output_type": "display_data"
    }
   ],
   "source": [
    "plot_cm(ys_class, y_hats_class)"
   ]
  },
  {
   "cell_type": "code",
   "execution_count": 273,
   "metadata": {},
   "outputs": [],
   "source": [
    "from sklearn.ensemble import RandomForestClassifier\n",
    "from sklearn.linear_model import LogisticRegressionCV"
   ]
  },
  {
   "cell_type": "code",
   "execution_count": 274,
   "metadata": {},
   "outputs": [],
   "source": [
    "xs = []\n",
    "ys = []\n",
    "\n",
    "with torch.no_grad():\n",
    "    model_cnn.eval()\n",
    "\n",
    "    for x, y in train_dataloader:\n",
    "        ys.append(y)\n",
    "\n",
    "        x = x.to(\"cuda:0\")\n",
    "        x_hat_intermediate = model_cnn.network[0:9](x)\n",
    "\n",
    "        xs.append(x_hat_intermediate.cpu().numpy())\n",
    "\n",
    "x_ds = np.concatenate(xs)\n",
    "y_ds = np.concatenate(ys)"
   ]
  },
  {
   "cell_type": "code",
   "execution_count": 275,
   "metadata": {},
   "outputs": [],
   "source": [
    "distance_to_border = np.array([\n",
    "    np.array([0.5*(train_dataset.metadata[x][\"bbox\"][0]+train_dataset.metadata[x][\"bbox\"][2])/train_dataset.metadata[x][\"width\"], 0.5*(train_dataset.metadata[x][\"bbox\"][1]+train_dataset.metadata[x][\"bbox\"][3])/train_dataset.metadata[x][\"height\"]])\n",
    "    for x in train_dataset.metadata_mask.values()\n",
    "])\n",
    "\n",
    "x_ds = np.concatenate([distance_to_border, x_ds], axis=1)"
   ]
  },
  {
   "cell_type": "code",
   "execution_count": 276,
   "metadata": {},
   "outputs": [
    {
     "data": {
      "text/plain": [
       "RandomForestClassifier(class_weight='balanced', max_depth=20, n_estimators=200)"
      ]
     },
     "execution_count": 276,
     "metadata": {},
     "output_type": "execute_result"
    }
   ],
   "source": [
    "rf = RandomForestClassifier(n_estimators=200, max_depth=20, class_weight=\"balanced\")\n",
    "rf.fit(x_ds, y_ds)"
   ]
  },
  {
   "cell_type": "code",
   "execution_count": 277,
   "metadata": {},
   "outputs": [
    {
     "data": {
      "image/png": "[encoded data removed]",
      "text/plain": [
       "<Figure size 432x288 with 2 Axes>"
      ]
     },
     "metadata": {
      "needs_background": "light"
     },
     "output_type": "display_data"
    }
   ],
   "source": [
    "plot_cm(np.argmax(y_ds, axis=1), np.argmax(rf.predict(x_ds), axis=1))"
   ]
  },
  {
   "cell_type": "code",
   "execution_count": 278,
   "metadata": {},
   "outputs": [],
   "source": [
    "xs = []\n",
    "ys = []\n",
    "\n",
    "with torch.no_grad():\n",
    "    model_cnn.eval()\n",
    "\n",
    "    for x, y in test_dataloader:\n",
    "        ys.append(y)\n",
    "\n",
    "        x = x.to(\"cuda:0\")\n",
    "        x_hat_intermediate = model_cnn.network[0:9](x)\n",
    "\n",
    "        xs.append(x_hat_intermediate.cpu().numpy())\n",
    "\n",
    "x_ds = np.concatenate(xs)\n",
    "y_ds = np.concatenate(ys)"
   ]
  },
  {
   "cell_type": "code",
   "execution_count": 279,
   "metadata": {},
   "outputs": [],
   "source": [
    "distance_to_border = np.array([\n",
    "    np.array([0.5*(test_dataset.metadata[x][\"bbox\"][0]+test_dataset.metadata[x][\"bbox\"][2])/test_dataset.metadata[x][\"width\"], 0.5*(test_dataset.metadata[x][\"bbox\"][1]+test_dataset.metadata[x][\"bbox\"][3])/test_dataset.metadata[x][\"height\"]])\n",
    "    for x in test_dataset.metadata_mask.values()\n",
    "])\n",
    "\n",
    "x_ds = np.concatenate([distance_to_border, x_ds], axis=1)"
   ]
  },
  {
   "cell_type": "code",
   "execution_count": 280,
   "metadata": {},
   "outputs": [
    {
     "data": {
      "image/png": "[encoded data removed]",
      "text/plain": [
       "<Figure size 432x288 with 2 Axes>"
      ]
     },
     "metadata": {
      "needs_background": "light"
     },
     "output_type": "display_data"
    }
   ],
   "source": [
    "plot_cm(np.argmax(y_ds, axis=1), np.argmax(rf.predict(x_ds), axis=1))"
   ]
  },
  {
   "cell_type": "code",
   "execution_count": 99,
   "metadata": {},
   "outputs": [
    {
     "data": {
      "text/plain": [
       "0.5790494058786742"
      ]
     },
     "execution_count": 99,
     "metadata": {},
     "output_type": "execute_result"
    }
   ],
   "source": [
    "f1_score(ys_class, y_hats_class, average=\"macro\")"
   ]
  },
  {
   "cell_type": "code",
   "execution_count": 100,
   "metadata": {},
   "outputs": [
    {
     "data": {
      "text/plain": [
       "0.9373219373219374"
      ]
     },
     "execution_count": 100,
     "metadata": {},
     "output_type": "execute_result"
    }
   ],
   "source": [
    "f1_score(ys_class, y_hats_class, average=\"micro\")"
   ]
  },
  {
   "cell_type": "code",
   "execution_count": null,
   "metadata": {},
   "outputs": [],
   "source": []
  }
 ],
 "metadata": {
  "interpreter": {
   "hash": "28b293e0c0671e44c7281dde6399c7c7419d3faca031d22494da8635907ada72"
  },
  "kernelspec": {
   "display_name": "Python 3.9.7 64-bit ('base': conda)",
   "language": "python",
   "name": "python3"
  },
  "language_info": {
   "codemirror_mode": {
    "name": "ipython",
    "version": 3
   },
   "file_extension": ".py",
   "mimetype": "text/x-python",
   "name": "python",
   "nbconvert_exporter": "python",
   "pygments_lexer": "ipython3",
   "version": "3.9.1"
  },
  "orig_nbformat": 4
 },
 "nbformat": 4,
 "nbformat_minor": 2
}
