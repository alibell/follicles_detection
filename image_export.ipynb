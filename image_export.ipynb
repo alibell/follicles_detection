{
 "cells": [
  {
   "cell_type": "code",
   "execution_count": 12,
   "metadata": {},
   "outputs": [],
   "source": [
    "import pandas as pd\n",
    "import os\n",
    "from submissions.ab_submission.dataLoaders import imageDataLoader"
   ]
  },
  {
   "cell_type": "code",
   "execution_count": 13,
   "metadata": {},
   "outputs": [],
   "source": [
    "label_dict = {\n",
    "    0:\"Négative\",\n",
    "    1:\"Primordial\",\n",
    "    2:\"Primaire\",\n",
    "    3:\"Secondaire\",\n",
    "    4:\"Tertiaire\"\n",
    "}"
   ]
  },
  {
   "cell_type": "code",
   "execution_count": 14,
   "metadata": {},
   "outputs": [],
   "source": [
    "font_size = 60\n",
    "if os.name != 'nt':\n",
    "    font = ImageFont.truetype(\"/usr/share/fonts/truetype/freefont/FreeMono.ttf\", font_size)\n",
    "else:\n",
    "    font = ImageFont.truetype(\"C:/Windows/Fonts/Arial/arialbd.ttf\", font_size)\n"
   ]
  },
  {
   "cell_type": "code",
   "execution_count": 15,
   "metadata": {},
   "outputs": [],
   "source": [
    "from PIL import Image, ImageFont, ImageDraw\n",
    "import glob\n",
    "\n",
    "train_files = glob.glob(\"./data/train/*.jpg\")\n",
    "test_files = glob.glob(\"./data/test/*.jpg\")\n",
    "train_label = pd.read_csv(\"./data/train/labels.csv\")\n",
    "test_label = pd.read_csv(\"./data/test/labels.csv\")\n",
    "\n",
    "# Creating labelled images\n",
    "for folder,x,y in [(\"train\",train_files,train_label), (\"test\",test_files, test_label)]:\n",
    "    image_loaders = imageDataLoader(x, y[[\"filename\",\"xmin\",\"xmax\",\"ymin\",\"ymax\",\"label\"]])\n",
    "    for filename, image in zip(image_loaders.X_filenames, image_loaders.get_samples()):\n",
    "        image_object = Image.fromarray(image[0])\n",
    "        image_draw = ImageDraw.Draw(image_object)\n",
    "        for (box, label) in zip(image[1], image[2]):\n",
    "            x1, x2, y1, y2 = box\n",
    "            image_draw.rounded_rectangle(((x1, y1), (x2,y2)), fill=None, outline=\"black\", width=5)\n",
    "            image_draw.text((x1, y1-70), label_dict[int(label)], font=font, fill=\"black\")\n",
    "\n",
    "        image_object.save(f\"./data/{folder}_labelled/{filename}\")"
   ]
  }
 ],
 "metadata": {
  "interpreter": {
   "hash": "28b293e0c0671e44c7281dde6399c7c7419d3faca031d22494da8635907ada72"
  },
  "kernelspec": {
   "display_name": "Python 3.9.7 64-bit ('base': conda)",
   "language": "python",
   "name": "python3"
  },
  "language_info": {
   "codemirror_mode": {
    "name": "ipython",
    "version": 3
   },
   "file_extension": ".py",
   "mimetype": "text/x-python",
   "name": "python",
   "nbconvert_exporter": "python",
   "pygments_lexer": "ipython3",
   "version": "3.9.7"
  },
  "orig_nbformat": 4
 },
 "nbformat": 4,
 "nbformat_minor": 2
}
