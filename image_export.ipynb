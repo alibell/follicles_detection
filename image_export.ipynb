{
 "cells": [
  {
   "cell_type": "code",
   "execution_count": null,
   "metadata": {},
   "outputs": [],
   "source": [
    "from PIL import Image, ImageFont, ImageDraw\n",
    "import glob\n",
    "\n",
    "train_files = glob.glob(\"./data/train/*.jpg\")\n",
    "test_files = glob.glob(\"./data/test/*.jpg\")\n",
    "train_label = pd.read_csv(\"./data/train/labels.csv\")\n",
    "test_label = pd.read_csv(\"./data/test/labels.csv\")\n",
    "\n",
    "# Creating labelled images\n",
    "for folder,x,y in [(\"train\",train_files,train_label), (\"test\",test_files, test_label)]:\n",
    "    image_loaders = imageDataLoader(x, y[[\"filename\",\"xmin\",\"xmax\",\"ymin\",\"ymax\",\"label\"]])\n",
    "    for filename, image in zip(image_loaders.X_filenames, image_loaders.get_samples()):\n",
    "        image_object = Image.fromarray(image[0])\n",
    "        image_draw = ImageDraw.Draw(image_object)\n",
    "        for (box, label) in zip(image[1], image[2]):\n",
    "            x1, x2, y1, y2 = box\n",
    "            image_draw.rounded_rectangle(((x1, y1), (x2,y2)), fill=None, outline=\"black\", width=5)\n",
    "            image_draw.text((x1, y1-70), label_dict[label][\"class\"], font=font, fill=\"black\")\n",
    "\n",
    "        image_object.save(f\"./data/{folder}_labelled/{filename}\")"
   ]
  }
 ],
 "metadata": {
  "language_info": {
   "name": "python"
  },
  "orig_nbformat": 4
 },
 "nbformat": 4,
 "nbformat_minor": 2
}
